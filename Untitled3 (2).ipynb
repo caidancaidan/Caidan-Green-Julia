{
 "cells": [
  {
   "cell_type": "code",
   "execution_count": 33,
   "id": "e798603e",
   "metadata": {},
   "outputs": [
    {
     "data": {
      "text/plain": [
       "5×5 Matrix{Int64}:\n",
       "  3  5  7   8  11\n",
       "  4  3  5  12   6\n",
       " 10  2  1   9   2\n",
       "  6  8  0   7   4\n",
       "  7  3  5   0   2"
      ]
     },
     "execution_count": 33,
     "metadata": {},
     "output_type": "execute_result"
    }
   ],
   "source": [
    "#Descrambled\n",
    "A = [3 5 7 8 11; 4 3 5 12 6; 10 2 1 9 2; 6 8 0 7 4; 7 3 5 0 2]"
   ]
  },
  {
   "cell_type": "code",
   "execution_count": 38,
   "id": "25c4d94b",
   "metadata": {},
   "outputs": [
    {
     "data": {
      "text/plain": [
       "5×5 Matrix{Int64}:\n",
       " 35   5  51   4   5\n",
       " 14  89  51  25  89\n",
       " 23   6   1  83  89\n",
       " 25  40   5   1  50\n",
       " 89  89  89  89  89"
      ]
     },
     "execution_count": 38,
     "metadata": {},
     "output_type": "execute_result"
    }
   ],
   "source": [
    "#Cipher\n",
    "B = [35 5 51 4 5; 14 89 51 25 89; 23 6 1 83 89; 25 40 5 1 50; 89 89 89 89 89]"
   ]
  },
  {
   "cell_type": "code",
   "execution_count": 39,
   "id": "41c59947",
   "metadata": {},
   "outputs": [
    {
     "data": {
      "text/plain": [
       "5×5 Matrix{Int64}:\n",
       " 1515  1801  1434  1705  2462\n",
       " 1131  1331   956  1052  1866\n",
       "  804   772   836   360   945\n",
       "  853  1378  1105   587  1448\n",
       "  580   510   693   696   925"
      ]
     },
     "execution_count": 39,
     "metadata": {},
     "output_type": "execute_result"
    }
   ],
   "source": [
    "#Scrambled\n",
    "c= A*B"
   ]
  },
  {
   "cell_type": "code",
   "execution_count": null,
   "id": "5943e092",
   "metadata": {},
   "outputs": [],
   "source": [
    "#C= [694 339 346 827 543; 1681 906 1039 1814 1968; 1224 1066 637 846 801; 291 263 380 732 529; 2670 1869 1602 3204 2225]"
   ]
  },
  {
   "cell_type": "code",
   "execution_count": 40,
   "id": "80b2efdb",
   "metadata": {},
   "outputs": [
    {
     "data": {
      "text/plain": [
       "5×5 Matrix{Float64}:\n",
       "  0.0407446  -0.108535    0.129259   -0.0266948    0.025641\n",
       " -0.0871092   0.0793316  -0.153194    0.16052      0.0732601\n",
       " -0.0962417   0.194792   -0.142757   -0.0403934    0.168498\n",
       " -0.0660344   0.131567   -0.0124442   0.00878117  -0.03663\n",
       "  0.228662   -0.226103    0.134277   -0.0463646   -0.120879"
      ]
     },
     "execution_count": 40,
     "metadata": {},
     "output_type": "execute_result"
    }
   ],
   "source": [
    "Ainv=inv(A)"
   ]
  },
  {
   "cell_type": "code",
   "execution_count": 41,
   "id": "072b520d",
   "metadata": {},
   "outputs": [
    {
     "data": {
      "text/plain": [
       "5×5 Matrix{Float64}:\n",
       " 35.0   5.0  51.0   4.0   5.0\n",
       " 14.0  89.0  51.0  25.0  89.0\n",
       " 23.0   6.0   1.0  83.0  89.0\n",
       " 25.0  40.0   5.0   1.0  50.0\n",
       " 89.0  89.0  89.0  89.0  89.0"
      ]
     },
     "execution_count": 41,
     "metadata": {},
     "output_type": "execute_result"
    }
   ],
   "source": [
    "Ainv*(c)"
   ]
  },
  {
   "cell_type": "code",
   "execution_count": null,
   "id": "08be8239",
   "metadata": {},
   "outputs": [],
   "source": [
    "#Key: A=5 B=12 C=33 D=4 E=6-8 F=10 6=20 H=27 I=51 J=3 K=35 L=17 M=40-45 N=14 0=22 P=38 Q=9 R=1 S=25 \n",
    "#           T=50 U=46 V=23 W=15-18 X=66 Y=83 Z=49"
   ]
  },
  {
   "cell_type": "code",
   "execution_count": null,
   "id": "3874c9ee",
   "metadata": {},
   "outputs": [],
   "source": [
    "#The code is supposed to make\n",
    "#[C A I D A N _ I S _ V E R Y _ S M A R T _ _ _ _ _]"
   ]
  }
 ],
 "metadata": {
  "kernelspec": {
   "display_name": "Julia 1.7.3",
   "language": "julia",
   "name": "julia-1.7"
  },
  "language_info": {
   "file_extension": ".jl",
   "mimetype": "application/julia",
   "name": "julia",
   "version": "1.7.3"
  }
 },
 "nbformat": 4,
 "nbformat_minor": 5
}
